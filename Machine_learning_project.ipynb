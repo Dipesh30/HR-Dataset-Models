{
 "cells": [
  {
   "cell_type": "markdown",
   "metadata": {},
   "source": [
    "Importing the libaries"
   ]
  },
  {
   "cell_type": "code",
   "execution_count": 2,
   "metadata": {},
   "outputs": [],
   "source": [
    "import pandas as pd\n",
    "import numpy as np\n",
    "import seaborn as sns\n",
    "import matplotlib.pyplot as plt\n",
    "from sklearn.preprocessing import LabelEncoder\n",
    "from sklearn.preprocessing import Normalizer,StandardScaler, MinMaxScaler\n",
    "from sklearn.model_selection import train_test_split\n",
    "from sklearn.discriminant_analysis import LinearDiscriminantAnalysis as LDA\n",
    "from sklearn.decomposition import PCA\n",
    "from sklearn.neighbors import KNeighborsClassifier\n",
    "from sklearn.linear_model import LogisticRegression\n",
    "from sklearn.svm import SVC\n",
    "from sklearn.ensemble import GradientBoostingClassifier,RandomForestClassifier,AdaBoostClassifier\n",
    "from sklearn.model_selection import RandomizedSearchCV\n",
    "from sklearn.metrics import confusion_matrix,accuracy_score\n",
    "import warnings\n",
    "warnings.filterwarnings(\"ignore\")"
   ]
  },
  {
   "cell_type": "markdown",
   "metadata": {},
   "source": [
    "Reading the data"
   ]
  },
  {
   "cell_type": "code",
   "execution_count": 3,
   "metadata": {},
   "outputs": [],
   "source": [
    "data = pd.read_csv('Hr_Data.csv')\n",
    "data = data.set_index('SLNO')"
   ]
  },
  {
   "cell_type": "markdown",
   "metadata": {},
   "source": [
    "Looking at the data"
   ]
  },
  {
   "cell_type": "code",
   "execution_count": 4,
   "metadata": {},
   "outputs": [
    {
     "data": {
      "text/html": [
       "<div>\n",
       "<style scoped>\n",
       "    .dataframe tbody tr th:only-of-type {\n",
       "        vertical-align: middle;\n",
       "    }\n",
       "\n",
       "    .dataframe tbody tr th {\n",
       "        vertical-align: top;\n",
       "    }\n",
       "\n",
       "    .dataframe thead th {\n",
       "        text-align: right;\n",
       "    }\n",
       "</style>\n",
       "<table border=\"1\" class=\"dataframe\">\n",
       "  <thead>\n",
       "    <tr style=\"text-align: right;\">\n",
       "      <th></th>\n",
       "      <th>Candidate.Ref</th>\n",
       "      <th>DOJ.Extended</th>\n",
       "      <th>Duration.to.accept.offer</th>\n",
       "      <th>Notice.period</th>\n",
       "      <th>Offered.band</th>\n",
       "      <th>Pecent.hike.expected.in.CTC</th>\n",
       "      <th>Percent.hike.offered.in.CTC</th>\n",
       "      <th>Percent.difference.CTC</th>\n",
       "      <th>Joining.Bonus</th>\n",
       "      <th>Candidate.relocate.actual</th>\n",
       "      <th>Gender</th>\n",
       "      <th>Candidate.Source</th>\n",
       "      <th>Rex.in.Yrs</th>\n",
       "      <th>LOB</th>\n",
       "      <th>Location</th>\n",
       "      <th>Age</th>\n",
       "      <th>Status</th>\n",
       "    </tr>\n",
       "    <tr>\n",
       "      <th>SLNO</th>\n",
       "      <th></th>\n",
       "      <th></th>\n",
       "      <th></th>\n",
       "      <th></th>\n",
       "      <th></th>\n",
       "      <th></th>\n",
       "      <th></th>\n",
       "      <th></th>\n",
       "      <th></th>\n",
       "      <th></th>\n",
       "      <th></th>\n",
       "      <th></th>\n",
       "      <th></th>\n",
       "      <th></th>\n",
       "      <th></th>\n",
       "      <th></th>\n",
       "      <th></th>\n",
       "    </tr>\n",
       "  </thead>\n",
       "  <tbody>\n",
       "    <tr>\n",
       "      <th>1</th>\n",
       "      <td>2110407</td>\n",
       "      <td>Yes</td>\n",
       "      <td>14</td>\n",
       "      <td>30</td>\n",
       "      <td>E2</td>\n",
       "      <td>-20.79</td>\n",
       "      <td>13.16</td>\n",
       "      <td>42.86</td>\n",
       "      <td>No</td>\n",
       "      <td>No</td>\n",
       "      <td>Female</td>\n",
       "      <td>Agency</td>\n",
       "      <td>7</td>\n",
       "      <td>ERS</td>\n",
       "      <td>Noida</td>\n",
       "      <td>34</td>\n",
       "      <td>Joined</td>\n",
       "    </tr>\n",
       "    <tr>\n",
       "      <th>2</th>\n",
       "      <td>2112635</td>\n",
       "      <td>No</td>\n",
       "      <td>18</td>\n",
       "      <td>30</td>\n",
       "      <td>E2</td>\n",
       "      <td>50.00</td>\n",
       "      <td>320.00</td>\n",
       "      <td>180.00</td>\n",
       "      <td>No</td>\n",
       "      <td>No</td>\n",
       "      <td>Male</td>\n",
       "      <td>Employee Referral</td>\n",
       "      <td>8</td>\n",
       "      <td>INFRA</td>\n",
       "      <td>Chennai</td>\n",
       "      <td>34</td>\n",
       "      <td>Joined</td>\n",
       "    </tr>\n",
       "    <tr>\n",
       "      <th>3</th>\n",
       "      <td>2112838</td>\n",
       "      <td>No</td>\n",
       "      <td>3</td>\n",
       "      <td>45</td>\n",
       "      <td>E2</td>\n",
       "      <td>42.84</td>\n",
       "      <td>42.84</td>\n",
       "      <td>0.00</td>\n",
       "      <td>No</td>\n",
       "      <td>No</td>\n",
       "      <td>Male</td>\n",
       "      <td>Agency</td>\n",
       "      <td>4</td>\n",
       "      <td>INFRA</td>\n",
       "      <td>Noida</td>\n",
       "      <td>27</td>\n",
       "      <td>Joined</td>\n",
       "    </tr>\n",
       "    <tr>\n",
       "      <th>4</th>\n",
       "      <td>2115021</td>\n",
       "      <td>No</td>\n",
       "      <td>26</td>\n",
       "      <td>30</td>\n",
       "      <td>E2</td>\n",
       "      <td>42.84</td>\n",
       "      <td>42.84</td>\n",
       "      <td>0.00</td>\n",
       "      <td>No</td>\n",
       "      <td>No</td>\n",
       "      <td>Male</td>\n",
       "      <td>Employee Referral</td>\n",
       "      <td>4</td>\n",
       "      <td>INFRA</td>\n",
       "      <td>Noida</td>\n",
       "      <td>34</td>\n",
       "      <td>Joined</td>\n",
       "    </tr>\n",
       "    <tr>\n",
       "      <th>5</th>\n",
       "      <td>2115125</td>\n",
       "      <td>Yes</td>\n",
       "      <td>1</td>\n",
       "      <td>120</td>\n",
       "      <td>E2</td>\n",
       "      <td>42.59</td>\n",
       "      <td>42.59</td>\n",
       "      <td>0.00</td>\n",
       "      <td>No</td>\n",
       "      <td>Yes</td>\n",
       "      <td>Male</td>\n",
       "      <td>Employee Referral</td>\n",
       "      <td>6</td>\n",
       "      <td>INFRA</td>\n",
       "      <td>Noida</td>\n",
       "      <td>34</td>\n",
       "      <td>Joined</td>\n",
       "    </tr>\n",
       "    <tr>\n",
       "      <th>...</th>\n",
       "      <td>...</td>\n",
       "      <td>...</td>\n",
       "      <td>...</td>\n",
       "      <td>...</td>\n",
       "      <td>...</td>\n",
       "      <td>...</td>\n",
       "      <td>...</td>\n",
       "      <td>...</td>\n",
       "      <td>...</td>\n",
       "      <td>...</td>\n",
       "      <td>...</td>\n",
       "      <td>...</td>\n",
       "      <td>...</td>\n",
       "      <td>...</td>\n",
       "      <td>...</td>\n",
       "      <td>...</td>\n",
       "      <td>...</td>\n",
       "    </tr>\n",
       "    <tr>\n",
       "      <th>12332</th>\n",
       "      <td>3835433</td>\n",
       "      <td>No</td>\n",
       "      <td>0</td>\n",
       "      <td>30</td>\n",
       "      <td>E1</td>\n",
       "      <td>76.92</td>\n",
       "      <td>53.85</td>\n",
       "      <td>-13.04</td>\n",
       "      <td>No</td>\n",
       "      <td>No</td>\n",
       "      <td>Male</td>\n",
       "      <td>Direct</td>\n",
       "      <td>4</td>\n",
       "      <td>INFRA</td>\n",
       "      <td>Noida</td>\n",
       "      <td>34</td>\n",
       "      <td>Joined</td>\n",
       "    </tr>\n",
       "    <tr>\n",
       "      <th>12333</th>\n",
       "      <td>3836076</td>\n",
       "      <td>No</td>\n",
       "      <td>2</td>\n",
       "      <td>0</td>\n",
       "      <td>E1</td>\n",
       "      <td>45.25</td>\n",
       "      <td>14.09</td>\n",
       "      <td>-21.45</td>\n",
       "      <td>No</td>\n",
       "      <td>No</td>\n",
       "      <td>Female</td>\n",
       "      <td>Employee Referral</td>\n",
       "      <td>1</td>\n",
       "      <td>INFRA</td>\n",
       "      <td>Chennai</td>\n",
       "      <td>34</td>\n",
       "      <td>Joined</td>\n",
       "    </tr>\n",
       "    <tr>\n",
       "      <th>12319</th>\n",
       "      <td>3822427</td>\n",
       "      <td>No</td>\n",
       "      <td>4</td>\n",
       "      <td>0</td>\n",
       "      <td>E1</td>\n",
       "      <td>191.67</td>\n",
       "      <td>191.67</td>\n",
       "      <td>0.00</td>\n",
       "      <td>No</td>\n",
       "      <td>No</td>\n",
       "      <td>Male</td>\n",
       "      <td>Employee Referral</td>\n",
       "      <td>1</td>\n",
       "      <td>ERS</td>\n",
       "      <td>Chennai</td>\n",
       "      <td>34</td>\n",
       "      <td>Joined</td>\n",
       "    </tr>\n",
       "    <tr>\n",
       "      <th>11882</th>\n",
       "      <td>3664089</td>\n",
       "      <td>No</td>\n",
       "      <td>5</td>\n",
       "      <td>0</td>\n",
       "      <td>E2</td>\n",
       "      <td>20.00</td>\n",
       "      <td>10.00</td>\n",
       "      <td>-8.33</td>\n",
       "      <td>No</td>\n",
       "      <td>No</td>\n",
       "      <td>Male</td>\n",
       "      <td>Direct</td>\n",
       "      <td>8</td>\n",
       "      <td>ETS</td>\n",
       "      <td>Noida</td>\n",
       "      <td>34</td>\n",
       "      <td>Joined</td>\n",
       "    </tr>\n",
       "    <tr>\n",
       "      <th>5080</th>\n",
       "      <td>2556130</td>\n",
       "      <td>Yes</td>\n",
       "      <td>4</td>\n",
       "      <td>30</td>\n",
       "      <td>E1</td>\n",
       "      <td>30.95</td>\n",
       "      <td>23.81</td>\n",
       "      <td>-5.45</td>\n",
       "      <td>No</td>\n",
       "      <td>No</td>\n",
       "      <td>Male</td>\n",
       "      <td>Direct</td>\n",
       "      <td>4</td>\n",
       "      <td>ETS</td>\n",
       "      <td>Bangalore</td>\n",
       "      <td>26</td>\n",
       "      <td>Joined</td>\n",
       "    </tr>\n",
       "  </tbody>\n",
       "</table>\n",
       "<p>8998 rows × 17 columns</p>\n",
       "</div>"
      ],
      "text/plain": [
       "       Candidate.Ref DOJ.Extended  Duration.to.accept.offer  Notice.period  \\\n",
       "SLNO                                                                         \n",
       "1            2110407          Yes                        14             30   \n",
       "2            2112635           No                        18             30   \n",
       "3            2112838           No                         3             45   \n",
       "4            2115021           No                        26             30   \n",
       "5            2115125          Yes                         1            120   \n",
       "...              ...          ...                       ...            ...   \n",
       "12332        3835433           No                         0             30   \n",
       "12333        3836076           No                         2              0   \n",
       "12319        3822427           No                         4              0   \n",
       "11882        3664089           No                         5              0   \n",
       "5080         2556130          Yes                         4             30   \n",
       "\n",
       "      Offered.band  Pecent.hike.expected.in.CTC  Percent.hike.offered.in.CTC  \\\n",
       "SLNO                                                                           \n",
       "1               E2                       -20.79                        13.16   \n",
       "2               E2                        50.00                       320.00   \n",
       "3               E2                        42.84                        42.84   \n",
       "4               E2                        42.84                        42.84   \n",
       "5               E2                        42.59                        42.59   \n",
       "...            ...                          ...                          ...   \n",
       "12332           E1                        76.92                        53.85   \n",
       "12333           E1                        45.25                        14.09   \n",
       "12319           E1                       191.67                       191.67   \n",
       "11882           E2                        20.00                        10.00   \n",
       "5080            E1                        30.95                        23.81   \n",
       "\n",
       "       Percent.difference.CTC Joining.Bonus Candidate.relocate.actual  Gender  \\\n",
       "SLNO                                                                            \n",
       "1                       42.86            No                        No  Female   \n",
       "2                      180.00            No                        No    Male   \n",
       "3                        0.00            No                        No    Male   \n",
       "4                        0.00            No                        No    Male   \n",
       "5                        0.00            No                       Yes    Male   \n",
       "...                       ...           ...                       ...     ...   \n",
       "12332                  -13.04            No                        No    Male   \n",
       "12333                  -21.45            No                        No  Female   \n",
       "12319                    0.00            No                        No    Male   \n",
       "11882                   -8.33            No                        No    Male   \n",
       "5080                    -5.45            No                        No    Male   \n",
       "\n",
       "        Candidate.Source  Rex.in.Yrs    LOB   Location  Age  Status  \n",
       "SLNO                                                                 \n",
       "1                 Agency           7    ERS      Noida   34  Joined  \n",
       "2      Employee Referral           8  INFRA    Chennai   34  Joined  \n",
       "3                 Agency           4  INFRA      Noida   27  Joined  \n",
       "4      Employee Referral           4  INFRA      Noida   34  Joined  \n",
       "5      Employee Referral           6  INFRA      Noida   34  Joined  \n",
       "...                  ...         ...    ...        ...  ...     ...  \n",
       "12332             Direct           4  INFRA      Noida   34  Joined  \n",
       "12333  Employee Referral           1  INFRA    Chennai   34  Joined  \n",
       "12319  Employee Referral           1    ERS    Chennai   34  Joined  \n",
       "11882             Direct           8    ETS      Noida   34  Joined  \n",
       "5080              Direct           4    ETS  Bangalore   26  Joined  \n",
       "\n",
       "[8998 rows x 17 columns]"
      ]
     },
     "execution_count": 4,
     "metadata": {},
     "output_type": "execute_result"
    }
   ],
   "source": [
    "data"
   ]
  },
  {
   "cell_type": "markdown",
   "metadata": {},
   "source": [
    "Checking for null values"
   ]
  },
  {
   "cell_type": "code",
   "execution_count": 5,
   "metadata": {},
   "outputs": [
    {
     "data": {
      "text/plain": [
       "Candidate.Ref                  0.0\n",
       "DOJ.Extended                   0.0\n",
       "Duration.to.accept.offer       0.0\n",
       "Notice.period                  0.0\n",
       "Offered.band                   0.0\n",
       "Pecent.hike.expected.in.CTC    0.0\n",
       "Percent.hike.offered.in.CTC    0.0\n",
       "Percent.difference.CTC         0.0\n",
       "Joining.Bonus                  0.0\n",
       "Candidate.relocate.actual      0.0\n",
       "Gender                         0.0\n",
       "Candidate.Source               0.0\n",
       "Rex.in.Yrs                     0.0\n",
       "LOB                            0.0\n",
       "Location                       0.0\n",
       "Age                            0.0\n",
       "Status                         0.0\n",
       "dtype: float64"
      ]
     },
     "execution_count": 5,
     "metadata": {},
     "output_type": "execute_result"
    }
   ],
   "source": [
    "data.isnull().sum()/data.shape[0]"
   ]
  },
  {
   "cell_type": "markdown",
   "metadata": {},
   "source": [
    "Checking for datatypes"
   ]
  },
  {
   "cell_type": "code",
   "execution_count": 6,
   "metadata": {},
   "outputs": [
    {
     "data": {
      "text/plain": [
       "Candidate.Ref                    int64\n",
       "DOJ.Extended                    object\n",
       "Duration.to.accept.offer         int64\n",
       "Notice.period                    int64\n",
       "Offered.band                    object\n",
       "Pecent.hike.expected.in.CTC    float64\n",
       "Percent.hike.offered.in.CTC    float64\n",
       "Percent.difference.CTC         float64\n",
       "Joining.Bonus                   object\n",
       "Candidate.relocate.actual       object\n",
       "Gender                          object\n",
       "Candidate.Source                object\n",
       "Rex.in.Yrs                       int64\n",
       "LOB                             object\n",
       "Location                        object\n",
       "Age                              int64\n",
       "Status                          object\n",
       "dtype: object"
      ]
     },
     "execution_count": 6,
     "metadata": {},
     "output_type": "execute_result"
    }
   ],
   "source": [
    "data.dtypes"
   ]
  },
  {
   "cell_type": "markdown",
   "metadata": {},
   "source": [
    "We check our target variable and see that our data is baised. We got around 5000 rows more than the people who didnt join. This can be improved while creating the data."
   ]
  },
  {
   "cell_type": "code",
   "execution_count": 7,
   "metadata": {},
   "outputs": [
    {
     "data": {
      "text/plain": [
       "<matplotlib.axes._subplots.AxesSubplot at 0x14873438bc8>"
      ]
     },
     "execution_count": 7,
     "metadata": {},
     "output_type": "execute_result"
    },
    {
     "data": {
      "image/png": "[encoded data removed]",
      "text/plain": [
       "<Figure size 432x288 with 1 Axes>"
      ]
     },
     "metadata": {
      "needs_background": "light"
     },
     "output_type": "display_data"
    }
   ],
   "source": [
    "sns.countplot(data['Status'])"
   ]
  },
  {
   "cell_type": "markdown",
   "metadata": {},
   "source": [
    "These columns have negative value and we need only the positive values for training our model."
   ]
  },
  {
   "cell_type": "code",
   "execution_count": 8,
   "metadata": {},
   "outputs": [],
   "source": [
    "data['Percent.difference.CTC'] = data['Percent.difference.CTC'].abs()\n",
    "data['Pecent.hike.expected.in.CTC'] = data['Pecent.hike.expected.in.CTC'].abs()"
   ]
  },
  {
   "cell_type": "markdown",
   "metadata": {},
   "source": [
    "We check the range of age column the people who applied in the company."
   ]
  },
  {
   "cell_type": "code",
   "execution_count": 9,
   "metadata": {},
   "outputs": [
    {
     "data": {
      "text/plain": [
       "20       2\n",
       "21       3\n",
       "22      58\n",
       "23     221\n",
       "24     397\n",
       "25     677\n",
       "26     841\n",
       "27     907\n",
       "28     772\n",
       "29     632\n",
       "30     575\n",
       "31     486\n",
       "32     378\n",
       "33     298\n",
       "34    2144\n",
       "35     168\n",
       "36     128\n",
       "37      86\n",
       "38      63\n",
       "39      45\n",
       "40      39\n",
       "41      18\n",
       "42      17\n",
       "43      11\n",
       "44       6\n",
       "45       9\n",
       "46       3\n",
       "47       2\n",
       "48       3\n",
       "49       3\n",
       "50       4\n",
       "51       1\n",
       "60       1\n",
       "Name: Age, dtype: int64"
      ]
     },
     "execution_count": 9,
     "metadata": {},
     "output_type": "execute_result"
    }
   ],
   "source": [
    "data.Age.value_counts().sort_index()"
   ]
  },
  {
   "cell_type": "markdown",
   "metadata": {},
   "source": [
    "Converting the age column into bins for fitting in the model. "
   ]
  },
  {
   "cell_type": "code",
   "execution_count": 10,
   "metadata": {},
   "outputs": [],
   "source": [
    "data['Age_bins'] = pd.cut(x=data['Age'], bins=[20,25,30,35,40,45,50,55, 60], labels=[1,2,3,4,5,6,7,8],include_lowest=True)"
   ]
  },
  {
   "cell_type": "markdown",
   "metadata": {},
   "source": [
    "Checking the new Age_bins column created."
   ]
  },
  {
   "cell_type": "code",
   "execution_count": 11,
   "metadata": {},
   "outputs": [
    {
     "data": {
      "text/plain": [
       "1    1358\n",
       "2    3727\n",
       "3    3474\n",
       "4     361\n",
       "5      61\n",
       "6      15\n",
       "7       1\n",
       "8       1\n",
       "Name: Age_bins, dtype: int64"
      ]
     },
     "execution_count": 11,
     "metadata": {},
     "output_type": "execute_result"
    }
   ],
   "source": [
    "data['Age_bins'].value_counts().sort_index()"
   ]
  },
  {
   "cell_type": "markdown",
   "metadata": {},
   "source": [
    "Converting the target variable into categorical data"
   ]
  },
  {
   "cell_type": "code",
   "execution_count": 12,
   "metadata": {},
   "outputs": [
    {
     "data": {
      "text/html": [
       "<div>\n",
       "<style scoped>\n",
       "    .dataframe tbody tr th:only-of-type {\n",
       "        vertical-align: middle;\n",
       "    }\n",
       "\n",
       "    .dataframe tbody tr th {\n",
       "        vertical-align: top;\n",
       "    }\n",
       "\n",
       "    .dataframe thead th {\n",
       "        text-align: right;\n",
       "    }\n",
       "</style>\n",
       "<table border=\"1\" class=\"dataframe\">\n",
       "  <thead>\n",
       "    <tr style=\"text-align: right;\">\n",
       "      <th></th>\n",
       "      <th>Candidate.Ref</th>\n",
       "      <th>DOJ.Extended</th>\n",
       "      <th>Duration.to.accept.offer</th>\n",
       "      <th>Notice.period</th>\n",
       "      <th>Offered.band</th>\n",
       "      <th>Pecent.hike.expected.in.CTC</th>\n",
       "      <th>Percent.hike.offered.in.CTC</th>\n",
       "      <th>Percent.difference.CTC</th>\n",
       "      <th>Joining.Bonus</th>\n",
       "      <th>Candidate.relocate.actual</th>\n",
       "      <th>Gender</th>\n",
       "      <th>Candidate.Source</th>\n",
       "      <th>Rex.in.Yrs</th>\n",
       "      <th>LOB</th>\n",
       "      <th>Location</th>\n",
       "      <th>Age</th>\n",
       "      <th>Status</th>\n",
       "      <th>Age_bins</th>\n",
       "      <th>Status_num</th>\n",
       "    </tr>\n",
       "    <tr>\n",
       "      <th>SLNO</th>\n",
       "      <th></th>\n",
       "      <th></th>\n",
       "      <th></th>\n",
       "      <th></th>\n",
       "      <th></th>\n",
       "      <th></th>\n",
       "      <th></th>\n",
       "      <th></th>\n",
       "      <th></th>\n",
       "      <th></th>\n",
       "      <th></th>\n",
       "      <th></th>\n",
       "      <th></th>\n",
       "      <th></th>\n",
       "      <th></th>\n",
       "      <th></th>\n",
       "      <th></th>\n",
       "      <th></th>\n",
       "      <th></th>\n",
       "    </tr>\n",
       "  </thead>\n",
       "  <tbody>\n",
       "    <tr>\n",
       "      <th>1</th>\n",
       "      <td>2110407</td>\n",
       "      <td>Yes</td>\n",
       "      <td>14</td>\n",
       "      <td>30</td>\n",
       "      <td>E2</td>\n",
       "      <td>20.79</td>\n",
       "      <td>13.16</td>\n",
       "      <td>42.86</td>\n",
       "      <td>No</td>\n",
       "      <td>No</td>\n",
       "      <td>Female</td>\n",
       "      <td>Agency</td>\n",
       "      <td>7</td>\n",
       "      <td>ERS</td>\n",
       "      <td>Noida</td>\n",
       "      <td>34</td>\n",
       "      <td>Joined</td>\n",
       "      <td>3</td>\n",
       "      <td>2</td>\n",
       "    </tr>\n",
       "    <tr>\n",
       "      <th>2</th>\n",
       "      <td>2112635</td>\n",
       "      <td>No</td>\n",
       "      <td>18</td>\n",
       "      <td>30</td>\n",
       "      <td>E2</td>\n",
       "      <td>50.00</td>\n",
       "      <td>320.00</td>\n",
       "      <td>180.00</td>\n",
       "      <td>No</td>\n",
       "      <td>No</td>\n",
       "      <td>Male</td>\n",
       "      <td>Employee Referral</td>\n",
       "      <td>8</td>\n",
       "      <td>INFRA</td>\n",
       "      <td>Chennai</td>\n",
       "      <td>34</td>\n",
       "      <td>Joined</td>\n",
       "      <td>3</td>\n",
       "      <td>2</td>\n",
       "    </tr>\n",
       "    <tr>\n",
       "      <th>3</th>\n",
       "      <td>2112838</td>\n",
       "      <td>No</td>\n",
       "      <td>3</td>\n",
       "      <td>45</td>\n",
       "      <td>E2</td>\n",
       "      <td>42.84</td>\n",
       "      <td>42.84</td>\n",
       "      <td>0.00</td>\n",
       "      <td>No</td>\n",
       "      <td>No</td>\n",
       "      <td>Male</td>\n",
       "      <td>Agency</td>\n",
       "      <td>4</td>\n",
       "      <td>INFRA</td>\n",
       "      <td>Noida</td>\n",
       "      <td>27</td>\n",
       "      <td>Joined</td>\n",
       "      <td>2</td>\n",
       "      <td>2</td>\n",
       "    </tr>\n",
       "    <tr>\n",
       "      <th>4</th>\n",
       "      <td>2115021</td>\n",
       "      <td>No</td>\n",
       "      <td>26</td>\n",
       "      <td>30</td>\n",
       "      <td>E2</td>\n",
       "      <td>42.84</td>\n",
       "      <td>42.84</td>\n",
       "      <td>0.00</td>\n",
       "      <td>No</td>\n",
       "      <td>No</td>\n",
       "      <td>Male</td>\n",
       "      <td>Employee Referral</td>\n",
       "      <td>4</td>\n",
       "      <td>INFRA</td>\n",
       "      <td>Noida</td>\n",
       "      <td>34</td>\n",
       "      <td>Joined</td>\n",
       "      <td>3</td>\n",
       "      <td>2</td>\n",
       "    </tr>\n",
       "    <tr>\n",
       "      <th>5</th>\n",
       "      <td>2115125</td>\n",
       "      <td>Yes</td>\n",
       "      <td>1</td>\n",
       "      <td>120</td>\n",
       "      <td>E2</td>\n",
       "      <td>42.59</td>\n",
       "      <td>42.59</td>\n",
       "      <td>0.00</td>\n",
       "      <td>No</td>\n",
       "      <td>Yes</td>\n",
       "      <td>Male</td>\n",
       "      <td>Employee Referral</td>\n",
       "      <td>6</td>\n",
       "      <td>INFRA</td>\n",
       "      <td>Noida</td>\n",
       "      <td>34</td>\n",
       "      <td>Joined</td>\n",
       "      <td>3</td>\n",
       "      <td>2</td>\n",
       "    </tr>\n",
       "  </tbody>\n",
       "</table>\n",
       "</div>"
      ],
      "text/plain": [
       "      Candidate.Ref DOJ.Extended  Duration.to.accept.offer  Notice.period  \\\n",
       "SLNO                                                                        \n",
       "1           2110407          Yes                        14             30   \n",
       "2           2112635           No                        18             30   \n",
       "3           2112838           No                         3             45   \n",
       "4           2115021           No                        26             30   \n",
       "5           2115125          Yes                         1            120   \n",
       "\n",
       "     Offered.band  Pecent.hike.expected.in.CTC  Percent.hike.offered.in.CTC  \\\n",
       "SLNO                                                                          \n",
       "1              E2                        20.79                        13.16   \n",
       "2              E2                        50.00                       320.00   \n",
       "3              E2                        42.84                        42.84   \n",
       "4              E2                        42.84                        42.84   \n",
       "5              E2                        42.59                        42.59   \n",
       "\n",
       "      Percent.difference.CTC Joining.Bonus Candidate.relocate.actual  Gender  \\\n",
       "SLNO                                                                           \n",
       "1                      42.86            No                        No  Female   \n",
       "2                     180.00            No                        No    Male   \n",
       "3                       0.00            No                        No    Male   \n",
       "4                       0.00            No                        No    Male   \n",
       "5                       0.00            No                       Yes    Male   \n",
       "\n",
       "       Candidate.Source  Rex.in.Yrs    LOB Location  Age  Status Age_bins  \\\n",
       "SLNO                                                                        \n",
       "1                Agency           7    ERS    Noida   34  Joined        3   \n",
       "2     Employee Referral           8  INFRA  Chennai   34  Joined        3   \n",
       "3                Agency           4  INFRA    Noida   27  Joined        2   \n",
       "4     Employee Referral           4  INFRA    Noida   34  Joined        3   \n",
       "5     Employee Referral           6  INFRA    Noida   34  Joined        3   \n",
       "\n",
       "      Status_num  \n",
       "SLNO              \n",
       "1              2  \n",
       "2              2  \n",
       "3              2  \n",
       "4              2  \n",
       "5              2  "
      ]
     },
     "execution_count": 12,
     "metadata": {},
     "output_type": "execute_result"
    }
   ],
   "source": [
    "def status_to_numeric(x):\n",
    "        if x=='Joined': return 2\n",
    "        if x=='Not Joined': return 1\n",
    "data['Status_num'] = data['Status'].apply(status_to_numeric)\n",
    "data.head()"
   ]
  },
  {
   "cell_type": "markdown",
   "metadata": {},
   "source": [
    "We check the range of Year of experience column the people who applied in the company. "
   ]
  },
  {
   "cell_type": "code",
   "execution_count": 13,
   "metadata": {},
   "outputs": [
    {
     "data": {
      "text/plain": [
       "0      250\n",
       "1      637\n",
       "2      963\n",
       "3     2487\n",
       "4     1490\n",
       "5      831\n",
       "6      795\n",
       "7      578\n",
       "8      427\n",
       "9      205\n",
       "10     140\n",
       "11      53\n",
       "12      45\n",
       "13      47\n",
       "14      19\n",
       "15      14\n",
       "16       5\n",
       "17       3\n",
       "18       1\n",
       "20       5\n",
       "22       2\n",
       "24       1\n",
       "Name: Rex.in.Yrs, dtype: int64"
      ]
     },
     "execution_count": 13,
     "metadata": {},
     "output_type": "execute_result"
    }
   ],
   "source": [
    "data['Rex.in.Yrs'].value_counts().sort_index()"
   ]
  },
  {
   "cell_type": "markdown",
   "metadata": {},
   "source": [
    "We also convert the Year of experience into  bins column for better data processing. "
   ]
  },
  {
   "cell_type": "code",
   "execution_count": 14,
   "metadata": {},
   "outputs": [],
   "source": [
    "data['Rex.in.Yrs'] = pd.cut(x=data['Rex.in.Yrs'], bins=[0,3,6,9,12,15,18,21,24], labels=[1,2,3,4,5,6,7,8],include_lowest=True)"
   ]
  },
  {
   "cell_type": "markdown",
   "metadata": {},
   "source": [
    "We drop these columns for reducing data redundancy. "
   ]
  },
  {
   "cell_type": "code",
   "execution_count": 15,
   "metadata": {},
   "outputs": [],
   "source": [
    "data.drop(['Candidate.Ref','Status','Age','Pecent.hike.expected.in.CTC'], axis=1,inplace=True)"
   ]
  },
  {
   "cell_type": "markdown",
   "metadata": {},
   "source": [
    "The columns in the dataframe."
   ]
  },
  {
   "cell_type": "code",
   "execution_count": 16,
   "metadata": {},
   "outputs": [
    {
     "data": {
      "text/plain": [
       "Index(['DOJ.Extended', 'Duration.to.accept.offer', 'Notice.period',\n",
       "       'Offered.band', 'Percent.hike.offered.in.CTC', 'Percent.difference.CTC',\n",
       "       'Joining.Bonus', 'Candidate.relocate.actual', 'Gender',\n",
       "       'Candidate.Source', 'Rex.in.Yrs', 'LOB', 'Location', 'Age_bins',\n",
       "       'Status_num'],\n",
       "      dtype='object')"
      ]
     },
     "execution_count": 16,
     "metadata": {},
     "output_type": "execute_result"
    }
   ],
   "source": [
    "data.columns"
   ]
  },
  {
   "cell_type": "markdown",
   "metadata": {},
   "source": [
    "Checking the categorical data in the dataframe."
   ]
  },
  {
   "cell_type": "code",
   "execution_count": 17,
   "metadata": {},
   "outputs": [
    {
     "data": {
      "text/html": [
       "<div>\n",
       "<style scoped>\n",
       "    .dataframe tbody tr th:only-of-type {\n",
       "        vertical-align: middle;\n",
       "    }\n",
       "\n",
       "    .dataframe tbody tr th {\n",
       "        vertical-align: top;\n",
       "    }\n",
       "\n",
       "    .dataframe thead th {\n",
       "        text-align: right;\n",
       "    }\n",
       "</style>\n",
       "<table border=\"1\" class=\"dataframe\">\n",
       "  <thead>\n",
       "    <tr style=\"text-align: right;\">\n",
       "      <th></th>\n",
       "      <th>DOJ.Extended</th>\n",
       "      <th>Offered.band</th>\n",
       "      <th>Joining.Bonus</th>\n",
       "      <th>Candidate.relocate.actual</th>\n",
       "      <th>Gender</th>\n",
       "      <th>Candidate.Source</th>\n",
       "      <th>LOB</th>\n",
       "      <th>Location</th>\n",
       "    </tr>\n",
       "  </thead>\n",
       "  <tbody>\n",
       "    <tr>\n",
       "      <th>count</th>\n",
       "      <td>8998</td>\n",
       "      <td>8998</td>\n",
       "      <td>8998</td>\n",
       "      <td>8998</td>\n",
       "      <td>8998</td>\n",
       "      <td>8998</td>\n",
       "      <td>8998</td>\n",
       "      <td>8998</td>\n",
       "    </tr>\n",
       "    <tr>\n",
       "      <th>unique</th>\n",
       "      <td>2</td>\n",
       "      <td>4</td>\n",
       "      <td>2</td>\n",
       "      <td>2</td>\n",
       "      <td>2</td>\n",
       "      <td>3</td>\n",
       "      <td>9</td>\n",
       "      <td>11</td>\n",
       "    </tr>\n",
       "    <tr>\n",
       "      <th>top</th>\n",
       "      <td>No</td>\n",
       "      <td>E1</td>\n",
       "      <td>No</td>\n",
       "      <td>No</td>\n",
       "      <td>Male</td>\n",
       "      <td>Direct</td>\n",
       "      <td>INFRA</td>\n",
       "      <td>Chennai</td>\n",
       "    </tr>\n",
       "    <tr>\n",
       "      <th>freq</th>\n",
       "      <td>4790</td>\n",
       "      <td>5570</td>\n",
       "      <td>8581</td>\n",
       "      <td>7708</td>\n",
       "      <td>7447</td>\n",
       "      <td>4803</td>\n",
       "      <td>2850</td>\n",
       "      <td>3151</td>\n",
       "    </tr>\n",
       "  </tbody>\n",
       "</table>\n",
       "</div>"
      ],
      "text/plain": [
       "       DOJ.Extended Offered.band Joining.Bonus Candidate.relocate.actual  \\\n",
       "count          8998         8998          8998                      8998   \n",
       "unique            2            4             2                         2   \n",
       "top              No           E1            No                        No   \n",
       "freq           4790         5570          8581                      7708   \n",
       "\n",
       "       Gender Candidate.Source    LOB Location  \n",
       "count    8998             8998   8998     8998  \n",
       "unique      2                3      9       11  \n",
       "top      Male           Direct  INFRA  Chennai  \n",
       "freq     7447             4803   2850     3151  "
      ]
     },
     "execution_count": 17,
     "metadata": {},
     "output_type": "execute_result"
    }
   ],
   "source": [
    "data.describe(include='object')"
   ]
  },
  {
   "cell_type": "markdown",
   "metadata": {},
   "source": [
    "Converting the catagorical data into numerical label encoders."
   ]
  },
  {
   "cell_type": "code",
   "execution_count": 18,
   "metadata": {},
   "outputs": [],
   "source": [
    "le = LabelEncoder()\n",
    "data['DOJ.Extended'] = le.fit_transform(data['DOJ.Extended'])\n",
    "data['Offered.band'] = le.fit_transform(data['Offered.band'])\n",
    "data['Joining.Bonus'] = le.fit_transform(data['Joining.Bonus'])\n",
    "data['Candidate.relocate.actual'] = le.fit_transform(data['Candidate.relocate.actual'])\n",
    "data['Gender'] = le.fit_transform(data['Gender'])\n",
    "data['Candidate.Source'] = le.fit_transform(data['Candidate.Source'])\n",
    "data['LOB'] = le.fit_transform(data['LOB'])\n",
    "data['Location'] = le.fit_transform(data['Location'])"
   ]
  },
  {
   "cell_type": "markdown",
   "metadata": {},
   "source": [
    "Getting the dummies of some categorical column so as to reduce data redundancy."
   ]
  },
  {
   "cell_type": "code",
   "execution_count": 19,
   "metadata": {},
   "outputs": [],
   "source": [
    "cat_col = ['DOJ.Extended','Joining.Bonus','Candidate.relocate.actual','Gender', 'Candidate.Source']\n",
    "data = pd.get_dummies(data, columns=cat_col, drop_first=True)"
   ]
  },
  {
   "cell_type": "markdown",
   "metadata": {},
   "source": [
    "Standardising the numerical columns to fit in model."
   ]
  },
  {
   "cell_type": "code",
   "execution_count": 20,
   "metadata": {},
   "outputs": [],
   "source": [
    "mm = MinMaxScaler()\n",
    "num_col = ['Duration.to.accept.offer', 'Notice.period','Percent.hike.offered.in.CTC', 'Percent.difference.CTC']\n",
    "data[num_col] = mm.fit_transform(data[num_col])"
   ]
  },
  {
   "cell_type": "markdown",
   "metadata": {},
   "source": [
    "Data after preprocessing and feature engineering. "
   ]
  },
  {
   "cell_type": "code",
   "execution_count": 21,
   "metadata": {},
   "outputs": [
    {
     "data": {
      "text/html": [
       "<div>\n",
       "<style scoped>\n",
       "    .dataframe tbody tr th:only-of-type {\n",
       "        vertical-align: middle;\n",
       "    }\n",
       "\n",
       "    .dataframe tbody tr th {\n",
       "        vertical-align: top;\n",
       "    }\n",
       "\n",
       "    .dataframe thead th {\n",
       "        text-align: right;\n",
       "    }\n",
       "</style>\n",
       "<table border=\"1\" class=\"dataframe\">\n",
       "  <thead>\n",
       "    <tr style=\"text-align: right;\">\n",
       "      <th></th>\n",
       "      <th>Duration.to.accept.offer</th>\n",
       "      <th>Notice.period</th>\n",
       "      <th>Offered.band</th>\n",
       "      <th>Percent.hike.offered.in.CTC</th>\n",
       "      <th>Percent.difference.CTC</th>\n",
       "      <th>Rex.in.Yrs</th>\n",
       "      <th>LOB</th>\n",
       "      <th>Location</th>\n",
       "      <th>Age_bins</th>\n",
       "      <th>Status_num</th>\n",
       "      <th>DOJ.Extended_1</th>\n",
       "      <th>Joining.Bonus_1</th>\n",
       "      <th>Candidate.relocate.actual_1</th>\n",
       "      <th>Gender_1</th>\n",
       "      <th>Candidate.Source_1</th>\n",
       "      <th>Candidate.Source_2</th>\n",
       "    </tr>\n",
       "    <tr>\n",
       "      <th>SLNO</th>\n",
       "      <th></th>\n",
       "      <th></th>\n",
       "      <th></th>\n",
       "      <th></th>\n",
       "      <th></th>\n",
       "      <th></th>\n",
       "      <th></th>\n",
       "      <th></th>\n",
       "      <th></th>\n",
       "      <th></th>\n",
       "      <th></th>\n",
       "      <th></th>\n",
       "      <th></th>\n",
       "      <th></th>\n",
       "      <th></th>\n",
       "      <th></th>\n",
       "    </tr>\n",
       "  </thead>\n",
       "  <tbody>\n",
       "    <tr>\n",
       "      <th>1</th>\n",
       "      <td>0.062500</td>\n",
       "      <td>0.250</td>\n",
       "      <td>2</td>\n",
       "      <td>0.138525</td>\n",
       "      <td>0.142867</td>\n",
       "      <td>3</td>\n",
       "      <td>4</td>\n",
       "      <td>8</td>\n",
       "      <td>3</td>\n",
       "      <td>2</td>\n",
       "      <td>1</td>\n",
       "      <td>0</td>\n",
       "      <td>0</td>\n",
       "      <td>0</td>\n",
       "      <td>0</td>\n",
       "      <td>0</td>\n",
       "    </tr>\n",
       "    <tr>\n",
       "      <th>2</th>\n",
       "      <td>0.080357</td>\n",
       "      <td>0.250</td>\n",
       "      <td>2</td>\n",
       "      <td>0.715336</td>\n",
       "      <td>0.600000</td>\n",
       "      <td>3</td>\n",
       "      <td>7</td>\n",
       "      <td>2</td>\n",
       "      <td>3</td>\n",
       "      <td>2</td>\n",
       "      <td>0</td>\n",
       "      <td>0</td>\n",
       "      <td>0</td>\n",
       "      <td>1</td>\n",
       "      <td>0</td>\n",
       "      <td>1</td>\n",
       "    </tr>\n",
       "    <tr>\n",
       "      <th>3</th>\n",
       "      <td>0.013393</td>\n",
       "      <td>0.375</td>\n",
       "      <td>2</td>\n",
       "      <td>0.194319</td>\n",
       "      <td>0.000000</td>\n",
       "      <td>2</td>\n",
       "      <td>7</td>\n",
       "      <td>8</td>\n",
       "      <td>2</td>\n",
       "      <td>2</td>\n",
       "      <td>0</td>\n",
       "      <td>0</td>\n",
       "      <td>0</td>\n",
       "      <td>1</td>\n",
       "      <td>0</td>\n",
       "      <td>0</td>\n",
       "    </tr>\n",
       "    <tr>\n",
       "      <th>4</th>\n",
       "      <td>0.116071</td>\n",
       "      <td>0.250</td>\n",
       "      <td>2</td>\n",
       "      <td>0.194319</td>\n",
       "      <td>0.000000</td>\n",
       "      <td>2</td>\n",
       "      <td>7</td>\n",
       "      <td>8</td>\n",
       "      <td>3</td>\n",
       "      <td>2</td>\n",
       "      <td>0</td>\n",
       "      <td>0</td>\n",
       "      <td>0</td>\n",
       "      <td>1</td>\n",
       "      <td>0</td>\n",
       "      <td>1</td>\n",
       "    </tr>\n",
       "    <tr>\n",
       "      <th>5</th>\n",
       "      <td>0.004464</td>\n",
       "      <td>1.000</td>\n",
       "      <td>2</td>\n",
       "      <td>0.193849</td>\n",
       "      <td>0.000000</td>\n",
       "      <td>2</td>\n",
       "      <td>7</td>\n",
       "      <td>8</td>\n",
       "      <td>3</td>\n",
       "      <td>2</td>\n",
       "      <td>1</td>\n",
       "      <td>0</td>\n",
       "      <td>1</td>\n",
       "      <td>1</td>\n",
       "      <td>0</td>\n",
       "      <td>1</td>\n",
       "    </tr>\n",
       "    <tr>\n",
       "      <th>...</th>\n",
       "      <td>...</td>\n",
       "      <td>...</td>\n",
       "      <td>...</td>\n",
       "      <td>...</td>\n",
       "      <td>...</td>\n",
       "      <td>...</td>\n",
       "      <td>...</td>\n",
       "      <td>...</td>\n",
       "      <td>...</td>\n",
       "      <td>...</td>\n",
       "      <td>...</td>\n",
       "      <td>...</td>\n",
       "      <td>...</td>\n",
       "      <td>...</td>\n",
       "      <td>...</td>\n",
       "      <td>...</td>\n",
       "    </tr>\n",
       "    <tr>\n",
       "      <th>12332</th>\n",
       "      <td>0.000000</td>\n",
       "      <td>0.250</td>\n",
       "      <td>1</td>\n",
       "      <td>0.215016</td>\n",
       "      <td>0.043467</td>\n",
       "      <td>2</td>\n",
       "      <td>7</td>\n",
       "      <td>8</td>\n",
       "      <td>3</td>\n",
       "      <td>2</td>\n",
       "      <td>0</td>\n",
       "      <td>0</td>\n",
       "      <td>0</td>\n",
       "      <td>1</td>\n",
       "      <td>1</td>\n",
       "      <td>0</td>\n",
       "    </tr>\n",
       "    <tr>\n",
       "      <th>12333</th>\n",
       "      <td>0.008929</td>\n",
       "      <td>0.000</td>\n",
       "      <td>1</td>\n",
       "      <td>0.140274</td>\n",
       "      <td>0.071500</td>\n",
       "      <td>1</td>\n",
       "      <td>7</td>\n",
       "      <td>2</td>\n",
       "      <td>3</td>\n",
       "      <td>2</td>\n",
       "      <td>0</td>\n",
       "      <td>0</td>\n",
       "      <td>0</td>\n",
       "      <td>0</td>\n",
       "      <td>0</td>\n",
       "      <td>1</td>\n",
       "    </tr>\n",
       "    <tr>\n",
       "      <th>12319</th>\n",
       "      <td>0.017857</td>\n",
       "      <td>0.000</td>\n",
       "      <td>1</td>\n",
       "      <td>0.474096</td>\n",
       "      <td>0.000000</td>\n",
       "      <td>1</td>\n",
       "      <td>4</td>\n",
       "      <td>2</td>\n",
       "      <td>3</td>\n",
       "      <td>2</td>\n",
       "      <td>0</td>\n",
       "      <td>0</td>\n",
       "      <td>0</td>\n",
       "      <td>1</td>\n",
       "      <td>0</td>\n",
       "      <td>1</td>\n",
       "    </tr>\n",
       "    <tr>\n",
       "      <th>11882</th>\n",
       "      <td>0.022321</td>\n",
       "      <td>0.000</td>\n",
       "      <td>2</td>\n",
       "      <td>0.132585</td>\n",
       "      <td>0.027767</td>\n",
       "      <td>3</td>\n",
       "      <td>5</td>\n",
       "      <td>8</td>\n",
       "      <td>3</td>\n",
       "      <td>2</td>\n",
       "      <td>0</td>\n",
       "      <td>0</td>\n",
       "      <td>0</td>\n",
       "      <td>1</td>\n",
       "      <td>1</td>\n",
       "      <td>0</td>\n",
       "    </tr>\n",
       "    <tr>\n",
       "      <th>5080</th>\n",
       "      <td>0.017857</td>\n",
       "      <td>0.250</td>\n",
       "      <td>1</td>\n",
       "      <td>0.158546</td>\n",
       "      <td>0.018167</td>\n",
       "      <td>2</td>\n",
       "      <td>5</td>\n",
       "      <td>1</td>\n",
       "      <td>2</td>\n",
       "      <td>2</td>\n",
       "      <td>1</td>\n",
       "      <td>0</td>\n",
       "      <td>0</td>\n",
       "      <td>1</td>\n",
       "      <td>1</td>\n",
       "      <td>0</td>\n",
       "    </tr>\n",
       "  </tbody>\n",
       "</table>\n",
       "<p>8998 rows × 16 columns</p>\n",
       "</div>"
      ],
      "text/plain": [
       "       Duration.to.accept.offer  Notice.period  Offered.band  \\\n",
       "SLNO                                                           \n",
       "1                      0.062500          0.250             2   \n",
       "2                      0.080357          0.250             2   \n",
       "3                      0.013393          0.375             2   \n",
       "4                      0.116071          0.250             2   \n",
       "5                      0.004464          1.000             2   \n",
       "...                         ...            ...           ...   \n",
       "12332                  0.000000          0.250             1   \n",
       "12333                  0.008929          0.000             1   \n",
       "12319                  0.017857          0.000             1   \n",
       "11882                  0.022321          0.000             2   \n",
       "5080                   0.017857          0.250             1   \n",
       "\n",
       "       Percent.hike.offered.in.CTC  Percent.difference.CTC Rex.in.Yrs  LOB  \\\n",
       "SLNO                                                                         \n",
       "1                         0.138525                0.142867          3    4   \n",
       "2                         0.715336                0.600000          3    7   \n",
       "3                         0.194319                0.000000          2    7   \n",
       "4                         0.194319                0.000000          2    7   \n",
       "5                         0.193849                0.000000          2    7   \n",
       "...                            ...                     ...        ...  ...   \n",
       "12332                     0.215016                0.043467          2    7   \n",
       "12333                     0.140274                0.071500          1    7   \n",
       "12319                     0.474096                0.000000          1    4   \n",
       "11882                     0.132585                0.027767          3    5   \n",
       "5080                      0.158546                0.018167          2    5   \n",
       "\n",
       "       Location Age_bins  Status_num  DOJ.Extended_1  Joining.Bonus_1  \\\n",
       "SLNO                                                                    \n",
       "1             8        3           2               1                0   \n",
       "2             2        3           2               0                0   \n",
       "3             8        2           2               0                0   \n",
       "4             8        3           2               0                0   \n",
       "5             8        3           2               1                0   \n",
       "...         ...      ...         ...             ...              ...   \n",
       "12332         8        3           2               0                0   \n",
       "12333         2        3           2               0                0   \n",
       "12319         2        3           2               0                0   \n",
       "11882         8        3           2               0                0   \n",
       "5080          1        2           2               1                0   \n",
       "\n",
       "       Candidate.relocate.actual_1  Gender_1  Candidate.Source_1  \\\n",
       "SLNO                                                               \n",
       "1                                0         0                   0   \n",
       "2                                0         1                   0   \n",
       "3                                0         1                   0   \n",
       "4                                0         1                   0   \n",
       "5                                1         1                   0   \n",
       "...                            ...       ...                 ...   \n",
       "12332                            0         1                   1   \n",
       "12333                            0         0                   0   \n",
       "12319                            0         1                   0   \n",
       "11882                            0         1                   1   \n",
       "5080                             0         1                   1   \n",
       "\n",
       "       Candidate.Source_2  \n",
       "SLNO                       \n",
       "1                       0  \n",
       "2                       1  \n",
       "3                       0  \n",
       "4                       1  \n",
       "5                       1  \n",
       "...                   ...  \n",
       "12332                   0  \n",
       "12333                   1  \n",
       "12319                   1  \n",
       "11882                   0  \n",
       "5080                    0  \n",
       "\n",
       "[8998 rows x 16 columns]"
      ]
     },
     "execution_count": 21,
     "metadata": {},
     "output_type": "execute_result"
    }
   ],
   "source": [
    "data"
   ]
  },
  {
   "cell_type": "markdown",
   "metadata": {},
   "source": [
    "Dividing the dataframe into feature and target variable."
   ]
  },
  {
   "cell_type": "code",
   "execution_count": 22,
   "metadata": {},
   "outputs": [],
   "source": [
    "X = data.drop(['Status_num'], axis=1)\n",
    "y = data[['Status_num']]"
   ]
  },
  {
   "cell_type": "markdown",
   "metadata": {},
   "source": [
    "Using ravel to convert the target variable into array."
   ]
  },
  {
   "cell_type": "code",
   "execution_count": 23,
   "metadata": {},
   "outputs": [
    {
     "data": {
      "text/plain": [
       "array([2, 2, 2, ..., 2, 2, 2], dtype=int64)"
      ]
     },
     "execution_count": 23,
     "metadata": {},
     "output_type": "execute_result"
    }
   ],
   "source": [
    "y = y.values.ravel()\n",
    "y"
   ]
  },
  {
   "cell_type": "markdown",
   "metadata": {},
   "source": [
    "Diving the data into train and test."
   ]
  },
  {
   "cell_type": "code",
   "execution_count": 24,
   "metadata": {},
   "outputs": [],
   "source": [
    "X_train, X_test, y_train, y_test = train_test_split(X,y,test_size=0.2,random_state=1)"
   ]
  },
  {
   "cell_type": "markdown",
   "metadata": {},
   "source": [
    "Checking the shape after splitting."
   ]
  },
  {
   "cell_type": "code",
   "execution_count": 25,
   "metadata": {},
   "outputs": [
    {
     "data": {
      "text/plain": [
       "((7198, 15), (1800, 15), (7198,), (1800,))"
      ]
     },
     "execution_count": 25,
     "metadata": {},
     "output_type": "execute_result"
    }
   ],
   "source": [
    "X_train.shape,X_test.shape,y_train.shape,y_test.shape"
   ]
  },
  {
   "cell_type": "markdown",
   "metadata": {},
   "source": [
    "Fitting a simple Logistic regression model."
   ]
  },
  {
   "cell_type": "code",
   "execution_count": 26,
   "metadata": {},
   "outputs": [
    {
     "name": "stdout",
     "output_type": "stream",
     "text": [
      "Train accuracy: 0.8173103639899972\n",
      "Test accuracy: 0.8083333333333333\n",
      "[[  20  328]\n",
      " [  17 1435]]\n",
      "Accuracy0.8083333333333333\n"
     ]
    }
   ],
   "source": [
    "lr = LogisticRegression()\n",
    "lr.fit(X_train,y_train)\n",
    "print('Train accuracy:',lr.score(X_train,y_train))\n",
    "print('Test accuracy:',lr.score(X_test,y_test))\n",
    "y_pred = lr.predict(X_test)\n",
    "cm = confusion_matrix(y_test, y_pred)\n",
    "print(cm)\n",
    "print('Accuracy' + str(accuracy_score(y_test, y_pred)))"
   ]
  },
  {
   "cell_type": "markdown",
   "metadata": {},
   "source": [
    "Fitting in a support vector machine algorithm"
   ]
  },
  {
   "cell_type": "code",
   "execution_count": 27,
   "metadata": {},
   "outputs": [
    {
     "name": "stdout",
     "output_type": "stream",
     "text": [
      "Train accuracy: 0.8146707418727425\n",
      "Test accuracy: 0.8066666666666666\n",
      "[[   0  348]\n",
      " [   0 1452]]\n",
      "Accuracy0.8066666666666666\n"
     ]
    }
   ],
   "source": [
    "svc = SVC()\n",
    "svc.fit(X_train,y_train)\n",
    "print('Train accuracy:',svc.score(X_train, y_train))\n",
    "print('Test accuracy:',svc.score(X_test,y_test))\n",
    "y_pred = svc.predict(X_test)\n",
    "cm = confusion_matrix(y_test, y_pred)\n",
    "print(cm)\n",
    "print('Accuracy' + str(accuracy_score(y_test, y_pred)))"
   ]
  },
  {
   "cell_type": "markdown",
   "metadata": {},
   "source": [
    "Fitting a random forest classifier"
   ]
  },
  {
   "cell_type": "code",
   "execution_count": 28,
   "metadata": {},
   "outputs": [
    {
     "name": "stdout",
     "output_type": "stream",
     "text": [
      "Train accuracy 0.995137538205057\n",
      "Test accuracy: 0.8194444444444444\n",
      "[[  65  283]\n",
      " [  42 1410]]\n",
      "Accuracy0.8194444444444444\n"
     ]
    }
   ],
   "source": [
    "rfr1 = RandomForestClassifier()\n",
    "rfr1.fit(X_train,y_train)\n",
    "print('Train accuracy',rfr1.score(X_train,y_train))\n",
    "print('Test accuracy:',rfr1.score(X_test,y_test))\n",
    "y_pred = rfr1.predict(X_test)\n",
    "cm = confusion_matrix(y_test, y_pred)\n",
    "print(cm)\n",
    "print('Accuracy' + str(accuracy_score(y_test, y_pred)))"
   ]
  },
  {
   "cell_type": "markdown",
   "metadata": {},
   "source": [
    "Fitting a gradient boosting classifier algorithm"
   ]
  },
  {
   "cell_type": "code",
   "execution_count": 29,
   "metadata": {},
   "outputs": [
    {
     "name": "stdout",
     "output_type": "stream",
     "text": [
      "Train accuracy 0.8323145318143929\n",
      "Test accuracy: 0.8205555555555556\n",
      "[[  44  304]\n",
      " [  19 1433]]\n",
      "Accuracy0.8205555555555556\n"
     ]
    }
   ],
   "source": [
    "gbr = GradientBoostingClassifier(loss='exponential')\n",
    "gbr.fit(X_train,y_train)\n",
    "print('Train accuracy',gbr.score(X_train,y_train))\n",
    "print('Test accuracy:',gbr.score(X_test,y_test))\n",
    "y_pred = gbr.predict(X_test)\n",
    "cm = confusion_matrix(y_test, y_pred)\n",
    "print(cm)\n",
    "print('Accuracy' + str(accuracy_score(y_test, y_pred)))"
   ]
  },
  {
   "cell_type": "markdown",
   "metadata": {},
   "source": [
    "Fitting a Kneighbours Classifier"
   ]
  },
  {
   "cell_type": "code",
   "execution_count": 30,
   "metadata": {},
   "outputs": [
    {
     "name": "stdout",
     "output_type": "stream",
     "text": [
      "Train accuracy 0.9938871908863574\n",
      "Test accuracy: 0.995\n",
      "[[ 344    4]\n",
      " [   5 1447]]\n",
      "Accuracy0.995\n"
     ]
    }
   ],
   "source": [
    "neigh = KNeighborsClassifier(n_neighbors=1)\n",
    "neigh.fit(X, y)\n",
    "print('Train accuracy',neigh.score(X_train,y_train))\n",
    "print('Test accuracy:',neigh.score(X_test,y_test))\n",
    "y_pred = neigh.predict(X_test)\n",
    "cm = confusion_matrix(y_test, y_pred)\n",
    "print(cm)\n",
    "print('Accuracy' + str(accuracy_score(y_test, y_pred)))"
   ]
  },
  {
   "cell_type": "markdown",
   "metadata": {},
   "source": [
    "The Kneighbours Classifier outperforms all other algorithm. It has clearly identified both categories although the target variable was baised. "
   ]
  },
  {
   "cell_type": "code",
   "execution_count": null,
   "metadata": {},
   "outputs": [],
   "source": []
  }
 ],
 "metadata": {
  "kernelspec": {
   "display_name": "Python 3",
   "language": "python",
   "name": "python3"
  },
  "language_info": {
   "codemirror_mode": {
    "name": "ipython",
    "version": 3
   },
   "file_extension": ".py",
   "mimetype": "text/x-python",
   "name": "python",
   "nbconvert_exporter": "python",
   "pygments_lexer": "ipython3",
   "version": "3.7.4"
  }
 },
 "nbformat": 4,
 "nbformat_minor": 2
}
